{
 "cells": [
  {
   "cell_type": "code",
   "execution_count": 1,
   "metadata": {},
   "outputs": [],
   "source": [
    "import pandas as pd\n",
    "import numpy as np\n",
    "df_st = pd.read_csv('stories_description.csv')"
   ]
  },
  {
   "cell_type": "code",
   "execution_count": 2,
   "metadata": {},
   "outputs": [
    {
     "data": {
      "text/html": [
       "<div>\n",
       "<style scoped>\n",
       "    .dataframe tbody tr th:only-of-type {\n",
       "        vertical-align: middle;\n",
       "    }\n",
       "\n",
       "    .dataframe tbody tr th {\n",
       "        vertical-align: top;\n",
       "    }\n",
       "\n",
       "    .dataframe thead th {\n",
       "        text-align: right;\n",
       "    }\n",
       "</style>\n",
       "<table border=\"1\" class=\"dataframe\">\n",
       "  <thead>\n",
       "    <tr style=\"text-align: right;\">\n",
       "      <th></th>\n",
       "      <th>story_id</th>\n",
       "      <th>story_json</th>\n",
       "    </tr>\n",
       "  </thead>\n",
       "  <tbody>\n",
       "    <tr>\n",
       "      <th>0</th>\n",
       "      <td>127</td>\n",
       "      <td>{\"guid\":\"770a5bae-0e3f-4a6b-b924-bd87bd51a038\"...</td>\n",
       "    </tr>\n",
       "    <tr>\n",
       "      <th>1</th>\n",
       "      <td>254</td>\n",
       "      <td>{\"guid\":\"64f4c9ef-647b-4e04-b4d4-02297e939388\"...</td>\n",
       "    </tr>\n",
       "    <tr>\n",
       "      <th>2</th>\n",
       "      <td>865</td>\n",
       "      <td>{\"guid\":\"3482206b-d223-4aec-92ba-0150055cd68a\"...</td>\n",
       "    </tr>\n",
       "    <tr>\n",
       "      <th>3</th>\n",
       "      <td>1491</td>\n",
       "      <td>{\"guid\":\"5f4a9215-01de-4777-b70f-a18899db8f1c\"...</td>\n",
       "    </tr>\n",
       "    <tr>\n",
       "      <th>4</th>\n",
       "      <td>598</td>\n",
       "      <td>{\"guid\":\"ed8754bd-67be-4fa1-9289-5508d96f1fa4\"...</td>\n",
       "    </tr>\n",
       "    <tr>\n",
       "      <th>...</th>\n",
       "      <td>...</td>\n",
       "      <td>...</td>\n",
       "    </tr>\n",
       "    <tr>\n",
       "      <th>954</th>\n",
       "      <td>882</td>\n",
       "      <td>{\"guid\":\"15eebb21-5e66-4e04-bd89-7003b8a90e31\"...</td>\n",
       "    </tr>\n",
       "    <tr>\n",
       "      <th>955</th>\n",
       "      <td>1473</td>\n",
       "      <td>{\"guid\":\"4f9261e5-b049-41bd-9817-cb678c536c88\"...</td>\n",
       "    </tr>\n",
       "    <tr>\n",
       "      <th>956</th>\n",
       "      <td>266</td>\n",
       "      <td>{\"guid\":\"e98bd2c6-274c-4ce4-b137-2df085621388\"...</td>\n",
       "    </tr>\n",
       "    <tr>\n",
       "      <th>957</th>\n",
       "      <td>764</td>\n",
       "      <td>{\"guid\":\"0bce8dea-18f4-4b52-a8c3-a049be1c9c4d\"...</td>\n",
       "    </tr>\n",
       "    <tr>\n",
       "      <th>958</th>\n",
       "      <td>224</td>\n",
       "      <td>{\"guid\":\"d24210e8-5247-4fc0-85e8-2c18a8e1363d\"...</td>\n",
       "    </tr>\n",
       "  </tbody>\n",
       "</table>\n",
       "<p>959 rows × 2 columns</p>\n",
       "</div>"
      ],
      "text/plain": [
       "     story_id                                         story_json\n",
       "0         127  {\"guid\":\"770a5bae-0e3f-4a6b-b924-bd87bd51a038\"...\n",
       "1         254  {\"guid\":\"64f4c9ef-647b-4e04-b4d4-02297e939388\"...\n",
       "2         865  {\"guid\":\"3482206b-d223-4aec-92ba-0150055cd68a\"...\n",
       "3        1491  {\"guid\":\"5f4a9215-01de-4777-b70f-a18899db8f1c\"...\n",
       "4         598  {\"guid\":\"ed8754bd-67be-4fa1-9289-5508d96f1fa4\"...\n",
       "..        ...                                                ...\n",
       "954       882  {\"guid\":\"15eebb21-5e66-4e04-bd89-7003b8a90e31\"...\n",
       "955      1473  {\"guid\":\"4f9261e5-b049-41bd-9817-cb678c536c88\"...\n",
       "956       266  {\"guid\":\"e98bd2c6-274c-4ce4-b137-2df085621388\"...\n",
       "957       764  {\"guid\":\"0bce8dea-18f4-4b52-a8c3-a049be1c9c4d\"...\n",
       "958       224  {\"guid\":\"d24210e8-5247-4fc0-85e8-2c18a8e1363d\"...\n",
       "\n",
       "[959 rows x 2 columns]"
      ]
     },
     "execution_count": 2,
     "metadata": {},
     "output_type": "execute_result"
    }
   ],
   "source": [
    "df_st"
   ]
  },
  {
   "cell_type": "code",
   "execution_count": 4,
   "metadata": {},
   "outputs": [
    {
     "ename": "ParserError",
     "evalue": "Error tokenizing data. C error: Expected 6 fields in line 3, saw 7\n",
     "output_type": "error",
     "traceback": [
      "\u001b[1;31m---------------------------------------------------------------------------\u001b[0m",
      "\u001b[1;31mParserError\u001b[0m                               Traceback (most recent call last)",
      "\u001b[1;32m<ipython-input-4-6c7023ebaa4b>\u001b[0m in \u001b[0;36m<module>\u001b[1;34m\u001b[0m\n\u001b[1;32m----> 1\u001b[1;33m \u001b[0mdf_st2\u001b[0m \u001b[1;33m=\u001b[0m \u001b[0mpd\u001b[0m\u001b[1;33m.\u001b[0m\u001b[0mread_csv\u001b[0m\u001b[1;33m(\u001b[0m\u001b[1;34m'stories.csv'\u001b[0m\u001b[1;33m)\u001b[0m\u001b[1;33m\u001b[0m\u001b[1;33m\u001b[0m\u001b[0m\n\u001b[0m",
      "\u001b[1;32mc:\\users\\екатерина\\appdata\\local\\programs\\python\\python37\\lib\\site-packages\\pandas\\io\\parsers.py\u001b[0m in \u001b[0;36mparser_f\u001b[1;34m(filepath_or_buffer, sep, delimiter, header, names, index_col, usecols, squeeze, prefix, mangle_dupe_cols, dtype, engine, converters, true_values, false_values, skipinitialspace, skiprows, skipfooter, nrows, na_values, keep_default_na, na_filter, verbose, skip_blank_lines, parse_dates, infer_datetime_format, keep_date_col, date_parser, dayfirst, cache_dates, iterator, chunksize, compression, thousands, decimal, lineterminator, quotechar, quoting, doublequote, escapechar, comment, encoding, dialect, error_bad_lines, warn_bad_lines, delim_whitespace, low_memory, memory_map, float_precision)\u001b[0m\n\u001b[0;32m    683\u001b[0m         )\n\u001b[0;32m    684\u001b[0m \u001b[1;33m\u001b[0m\u001b[0m\n\u001b[1;32m--> 685\u001b[1;33m         \u001b[1;32mreturn\u001b[0m \u001b[0m_read\u001b[0m\u001b[1;33m(\u001b[0m\u001b[0mfilepath_or_buffer\u001b[0m\u001b[1;33m,\u001b[0m \u001b[0mkwds\u001b[0m\u001b[1;33m)\u001b[0m\u001b[1;33m\u001b[0m\u001b[1;33m\u001b[0m\u001b[0m\n\u001b[0m\u001b[0;32m    686\u001b[0m \u001b[1;33m\u001b[0m\u001b[0m\n\u001b[0;32m    687\u001b[0m     \u001b[0mparser_f\u001b[0m\u001b[1;33m.\u001b[0m\u001b[0m__name__\u001b[0m \u001b[1;33m=\u001b[0m \u001b[0mname\u001b[0m\u001b[1;33m\u001b[0m\u001b[1;33m\u001b[0m\u001b[0m\n",
      "\u001b[1;32mc:\\users\\екатерина\\appdata\\local\\programs\\python\\python37\\lib\\site-packages\\pandas\\io\\parsers.py\u001b[0m in \u001b[0;36m_read\u001b[1;34m(filepath_or_buffer, kwds)\u001b[0m\n\u001b[0;32m    461\u001b[0m \u001b[1;33m\u001b[0m\u001b[0m\n\u001b[0;32m    462\u001b[0m     \u001b[1;32mtry\u001b[0m\u001b[1;33m:\u001b[0m\u001b[1;33m\u001b[0m\u001b[1;33m\u001b[0m\u001b[0m\n\u001b[1;32m--> 463\u001b[1;33m         \u001b[0mdata\u001b[0m \u001b[1;33m=\u001b[0m \u001b[0mparser\u001b[0m\u001b[1;33m.\u001b[0m\u001b[0mread\u001b[0m\u001b[1;33m(\u001b[0m\u001b[0mnrows\u001b[0m\u001b[1;33m)\u001b[0m\u001b[1;33m\u001b[0m\u001b[1;33m\u001b[0m\u001b[0m\n\u001b[0m\u001b[0;32m    464\u001b[0m     \u001b[1;32mfinally\u001b[0m\u001b[1;33m:\u001b[0m\u001b[1;33m\u001b[0m\u001b[1;33m\u001b[0m\u001b[0m\n\u001b[0;32m    465\u001b[0m         \u001b[0mparser\u001b[0m\u001b[1;33m.\u001b[0m\u001b[0mclose\u001b[0m\u001b[1;33m(\u001b[0m\u001b[1;33m)\u001b[0m\u001b[1;33m\u001b[0m\u001b[1;33m\u001b[0m\u001b[0m\n",
      "\u001b[1;32mc:\\users\\екатерина\\appdata\\local\\programs\\python\\python37\\lib\\site-packages\\pandas\\io\\parsers.py\u001b[0m in \u001b[0;36mread\u001b[1;34m(self, nrows)\u001b[0m\n\u001b[0;32m   1152\u001b[0m     \u001b[1;32mdef\u001b[0m \u001b[0mread\u001b[0m\u001b[1;33m(\u001b[0m\u001b[0mself\u001b[0m\u001b[1;33m,\u001b[0m \u001b[0mnrows\u001b[0m\u001b[1;33m=\u001b[0m\u001b[1;32mNone\u001b[0m\u001b[1;33m)\u001b[0m\u001b[1;33m:\u001b[0m\u001b[1;33m\u001b[0m\u001b[1;33m\u001b[0m\u001b[0m\n\u001b[0;32m   1153\u001b[0m         \u001b[0mnrows\u001b[0m \u001b[1;33m=\u001b[0m \u001b[0m_validate_integer\u001b[0m\u001b[1;33m(\u001b[0m\u001b[1;34m\"nrows\"\u001b[0m\u001b[1;33m,\u001b[0m \u001b[0mnrows\u001b[0m\u001b[1;33m)\u001b[0m\u001b[1;33m\u001b[0m\u001b[1;33m\u001b[0m\u001b[0m\n\u001b[1;32m-> 1154\u001b[1;33m         \u001b[0mret\u001b[0m \u001b[1;33m=\u001b[0m \u001b[0mself\u001b[0m\u001b[1;33m.\u001b[0m\u001b[0m_engine\u001b[0m\u001b[1;33m.\u001b[0m\u001b[0mread\u001b[0m\u001b[1;33m(\u001b[0m\u001b[0mnrows\u001b[0m\u001b[1;33m)\u001b[0m\u001b[1;33m\u001b[0m\u001b[1;33m\u001b[0m\u001b[0m\n\u001b[0m\u001b[0;32m   1155\u001b[0m \u001b[1;33m\u001b[0m\u001b[0m\n\u001b[0;32m   1156\u001b[0m         \u001b[1;31m# May alter columns / col_dict\u001b[0m\u001b[1;33m\u001b[0m\u001b[1;33m\u001b[0m\u001b[1;33m\u001b[0m\u001b[0m\n",
      "\u001b[1;32mc:\\users\\екатерина\\appdata\\local\\programs\\python\\python37\\lib\\site-packages\\pandas\\io\\parsers.py\u001b[0m in \u001b[0;36mread\u001b[1;34m(self, nrows)\u001b[0m\n\u001b[0;32m   2057\u001b[0m     \u001b[1;32mdef\u001b[0m \u001b[0mread\u001b[0m\u001b[1;33m(\u001b[0m\u001b[0mself\u001b[0m\u001b[1;33m,\u001b[0m \u001b[0mnrows\u001b[0m\u001b[1;33m=\u001b[0m\u001b[1;32mNone\u001b[0m\u001b[1;33m)\u001b[0m\u001b[1;33m:\u001b[0m\u001b[1;33m\u001b[0m\u001b[1;33m\u001b[0m\u001b[0m\n\u001b[0;32m   2058\u001b[0m         \u001b[1;32mtry\u001b[0m\u001b[1;33m:\u001b[0m\u001b[1;33m\u001b[0m\u001b[1;33m\u001b[0m\u001b[0m\n\u001b[1;32m-> 2059\u001b[1;33m             \u001b[0mdata\u001b[0m \u001b[1;33m=\u001b[0m \u001b[0mself\u001b[0m\u001b[1;33m.\u001b[0m\u001b[0m_reader\u001b[0m\u001b[1;33m.\u001b[0m\u001b[0mread\u001b[0m\u001b[1;33m(\u001b[0m\u001b[0mnrows\u001b[0m\u001b[1;33m)\u001b[0m\u001b[1;33m\u001b[0m\u001b[1;33m\u001b[0m\u001b[0m\n\u001b[0m\u001b[0;32m   2060\u001b[0m         \u001b[1;32mexcept\u001b[0m \u001b[0mStopIteration\u001b[0m\u001b[1;33m:\u001b[0m\u001b[1;33m\u001b[0m\u001b[1;33m\u001b[0m\u001b[0m\n\u001b[0;32m   2061\u001b[0m             \u001b[1;32mif\u001b[0m \u001b[0mself\u001b[0m\u001b[1;33m.\u001b[0m\u001b[0m_first_chunk\u001b[0m\u001b[1;33m:\u001b[0m\u001b[1;33m\u001b[0m\u001b[1;33m\u001b[0m\u001b[0m\n",
      "\u001b[1;32mpandas/_libs/parsers.pyx\u001b[0m in \u001b[0;36mpandas._libs.parsers.TextReader.read\u001b[1;34m()\u001b[0m\n",
      "\u001b[1;32mpandas/_libs/parsers.pyx\u001b[0m in \u001b[0;36mpandas._libs.parsers.TextReader._read_low_memory\u001b[1;34m()\u001b[0m\n",
      "\u001b[1;32mpandas/_libs/parsers.pyx\u001b[0m in \u001b[0;36mpandas._libs.parsers.TextReader._read_rows\u001b[1;34m()\u001b[0m\n",
      "\u001b[1;32mpandas/_libs/parsers.pyx\u001b[0m in \u001b[0;36mpandas._libs.parsers.TextReader._tokenize_rows\u001b[1;34m()\u001b[0m\n",
      "\u001b[1;32mpandas/_libs/parsers.pyx\u001b[0m in \u001b[0;36mpandas._libs.parsers.raise_parser_error\u001b[1;34m()\u001b[0m\n",
      "\u001b[1;31mParserError\u001b[0m: Error tokenizing data. C error: Expected 6 fields in line 3, saw 7\n"
     ]
    }
   ],
   "source": [
    "df_st2 = pd.read_csv('stories.csv')"
   ]
  },
  {
   "cell_type": "code",
   "execution_count": 6,
   "metadata": {},
   "outputs": [
    {
     "data": {
      "text/plain": [
       "story_id       int64\n",
       "story_json    object\n",
       "dtype: object"
      ]
     },
     "execution_count": 6,
     "metadata": {},
     "output_type": "execute_result"
    }
   ],
   "source": [
    "df_st.dtypes"
   ]
  },
  {
   "cell_type": "code",
   "execution_count": 12,
   "metadata": {},
   "outputs": [
    {
     "data": {
      "text/plain": [
       "'{\"guid\":\"770a5bae-0e3f-4a6b-b924-bd87bd51a038\",\"type\":\"root\",\"description\":\"https://wiki.tcsbank.ru/pages/viewpage.action?pageId=262577789\",\"properties\":{\"name\":\"Изменить пин-код\",\"background\":{\"gradient\":{\"colors\":[],\"direction\":\"vertical\"},\"blur\":false},\"icon_url\":\"https://static2.tinkoff.ru/portfolio/stories/icons/pin.png\",\"icon_background\":{\"gradient\":{\"colors\":[{\"hex\":\"#b8a1e0\",\"alpha\":1},{\"hex\":\"#00bee0\",\"alpha\":1}],\"direction\":\"vertical\"},\"blur\":false},\"hide_page_status\":false},\"content\":[{\"guid\":\"5e560c49-d7d2-42a7-b3ea-0162d3282380\",\"type\":\"story-page\",\"properties\":{\"topMask\":false,\"bottomMask\":false,\"flip_interval\":10,\"background\":{\"gradient\":{\"colors\":[{\"hex\":\"#b8a1e0\",\"alpha\":1},{\"hex\":\"#00bee0\",\"alpha\":1}],\"direction\":\"diagonal\"},\"blur\":false},\"hidden\":\"false\",\"disable_tap_zones\":false,\"log_view\":false},\"content\":[{\"guid\":\"44fab33d-58aa-4c0a-8641-ccea621a7946\",\"type\":\"layout-linear\",\"properties\":{\"orientation\":\"vertical\",\"topMask\":false,\"bottomMask\":false,\"background\":{\"gradient\":{\"colors\":[],\"direction\":\"vertical\"},\"blur\":false},\"hidden\":\"false\",\"type\":\"grouped\",\"size\":{\"height\":{\"value\":0,\"units\":\"pixels\"},\"width\":{\"value\":0,\"units\":\"pixels\"}},\"padding\":{\"bottom\":0},\"margin\":{\"top\":0,\"bottom\":0,\"left\":0,\"right\":0},\"corner_radius\":{\"value\":0,\"units\":\"pixels\"},\"border\":{\"width\":0},\"alignment\":\"center\"},\"content\":[{\"guid\":\"4a03899b-9d54-4b6d-b944-52f0ba73b8f9\",\"type\":\"layout-linear\",\"properties\":{\"orientation\":\"horizontal\",\"topMask\":false,\"bottomMask\":false,\"background\":{\"gradient\":{\"colors\":[],\"direction\":\"vertical\"},\"blur\":false},\"hidden\":\"false\",\"type\":\"grouped\",\"padding\":{\"left\":16},\"alignment\":\"center\"},\"content\":[{\"guid\":\"b96aa65a-9e92-4b33-bb8c-1ffcefe087b1\",\"type\":\"image\",\"properties\":{\"url\":\"https://static2.tinkoff.ru/portfolio/stories/icons/pin.png\",\"alignment\":\"leading\",\"size\":{\"height\":{\"value\":88,\"units\":\"pixels\"},\"width\":{\"value\":88,\"units\":\"pixels\"}},\"corner_radius\":{\"value\":50,\"units\":\"percent\"},\"content_mode\":\"fill\",\"alpha\":1,\"background\":{\"gradient\":{\"colors\":[{\"hex\":\"#ffffff\",\"alpha\":0.2}],\"direction\":\"vertical\"},\"blur\":false}}}]},{\"guid\":\"019c929c-256b-4434-9712-9bb8d99dae01\",\"type\":\"layout-linear\",\"properties\":{\"orientation\":\"horizontal\",\"topMask\":false,\"bottomMask\":false,\"background\":{\"gradient\":{\"colors\":[]},\"blur\":false},\"hidden\":\"false\",\"type\":\"grouped\",\"template_name\":\"text\",\"size\":{\"height\":{\"value\":0,\"units\":\"pixels\"},\"width\":{\"value\":0,\"units\":\"pixels\"}},\"padding\":{\"top\":0,\"bottom\":\"0\",\"left\":16,\"right\":16},\"margin\":{\"top\":16,\"bottom\":\"16\",\"left\":0,\"right\":0},\"corner_radius\":{\"value\":0,\"units\":\"pixels\"},\"border\":{\"width\":0}},\"content\":[{\"guid\":\"2b2d633d-60be-49e8-ba7c-e8b07f158b0c\",\"type\":\"label\",\"properties\":{\"text\":\"Как изменить ПИН-код\",\"font_size\":36,\"font_type\":\"bold\",\"font_color\":{\"hex\":\"#ffffff\",\"alpha\":1},\"alignment\":\"leading\",\"corner_radius\":{\"value\":0,\"units\":\"pixels\"},\"background\":{\"gradient\":{\"colors\":[],\"direction\":\"diagonal\"},\"blur\":false},\"size\":{\"height\":{\"value\":0,\"units\":\"pixels\"},\"width\":{\"value\":0,\"units\":\"pixels\"}},\"padding\":{\"top\":0,\"bottom\":0,\"left\":0,\"right\":0},\"margin\":{\"top\":\"0\",\"bottom\":\"0\",\"left\":\"0\",\"right\":\"0\"},\"border\":{\"width\":0}}}]}]}]},{\"guid\":\"535eed2b-866b-4fb8-a50f-a87f2b1cb495\",\"type\":\"story-page\",\"description\":\"1\",\"properties\":{\"flip_interval\":10,\"background\":{\"gradient\":{\"colors\":[{\"hex\":\"#00b3e0\",\"alpha\":1},{\"hex\":\"#b596e1\",\"alpha\":1}],\"direction\":\"diagonal\"},\"blur\":false},\"hidden\":\"false\"},\"content\":[{\"guid\":\"aefb5454-35d2-4427-b8e5-28dbcb4fc464\",\"type\":\"layout-linear\",\"properties\":{\"orientation\":\"vertical\",\"background\":{\"gradient\":{},\"blur\":false},\"hidden\":\"false\",\"type\":\"grouped\",\"size\":{\"height\":{},\"width\":{}},\"corner_radius\":{\"units\":\"pixels\"},\"alignment\":\"leading\"},\"content\":[{\"guid\":\"72b2f7aa-cac8-4b98-b3ce-3577b79fe6ef\",\"type\":\"layout-linear\",\"properties\":{\"orientation\":\"horizontal\",\"hidden\":\"false\",\"type\":\"grouped\",\"margin\":{\"bottom\":16,\"top\":8},\"alignment\":\"center\"},\"content\":[]},{\"guid\":\"4037fd9d-4c57-4f51-a019-83d977dea84c\",\"type\":\"layout-linear\",\"properties\":{\"orientation\":\"horizontal\",\"background\":{\"gradient\":{\"colors\":[{\"hex\":\"#ffffff\",\"alpha\":0.3}]},\"blur\":false},\"hidden\":\"false\",\"type\":\"grouped\",\"size\":{\"height\":{}},\"margin\":{\"bottom\":12},\"alignment\":\"center\"},\"content\":[{\"guid\":\"2dd9916e-6724-44b9-9c6e-ef867ad5557f\",\"type\":\"image\",\"properties\":{\"url\":\"https://static2.tinkoff.ru/portfolio/stories/images/57_1.png\",\"alignment\":\"center\",\"size\":{\"height\":{\"value\":232,\"units\":\"pixels\"},\"width\":{\"value\":288,\"units\":\"pixels\"}},\"margin\":{\"top\":0,\"bottom\":0},\"content_mode\":\"fill\",\"alpha\":1}}]},{\"guid\":\"41e34377-3af3-4344-8bab-9ec5f218134c\",\"type\":\"layout-linear\",\"properties\":{\"orientation\":\"vertical\",\"background\":{\"gradient\":{\"colors\":[]},\"blur\":false},\"hidden\":\"false\",\"type\":\"grouped\",\"size\":{\"height\":{}},\"corner_radius\":{\"units\":\"pixels\"},\"alignment\":\"center\"},\"content\":[{\"guid\":\"27861d90-8cd3-4c3e-aacd-6995f18c9afc\",\"type\":\"layout-linear\",\"description\":\"копия\",\"properties\":{\"orientation\":\"horizontal\",\"hidden\":\"false\",\"type\":\"grouped\",\"alignment\":\"leading\"},\"content\":[{\"guid\":\"c6f48013-17b7-4e7a-9bb3-5f4acf21561c\",\"type\":\"label\",\"properties\":{\"text\":\"Зайдите с главной в меню «Еще» и выберите во вкладке настроек «ПИН-коды карт».\",\"font_size\":20,\"font_type\":\"normal\",\"font_color\":{\"hex\":\"#ffffff\",\"alpha\":1},\"alignment\":\"leading\",\"background\":{\"gradient\":{\"colors\":[],\"direction\":\"vertical\"},\"blur\":false},\"margin\":{\"left\":16,\"right\":16}},\"content\":[]}]},{\"guid\":\"265c4785-b859-4777-8b09-9174a2d9f8ee\",\"type\":\"layout-linear\",\"properties\":{\"orientation\":\"horizontal\",\"hidden\":\"false\",\"type\":\"grouped\",\"alignment\":\"center\"}}]}]}]},{\"guid\":\"8bd9eeae-cd71-4afb-b187-1b48688a3727\",\"type\":\"story-page\",\"description\":\"2\",\"properties\":{\"flip_interval\":10,\"background\":{\"gradient\":{\"colors\":[{\"hex\":\"#00b3e0\",\"alpha\":1},{\"hex\":\"#b596e1\",\"alpha\":1}],\"direction\":\"diagonal\"},\"blur\":false},\"hidden\":\"false\"},\"content\":[{\"guid\":\"b352d83d-cd00-4f95-b5bb-311b81057242\",\"type\":\"layout-linear\",\"properties\":{\"orientation\":\"vertical\",\"background\":{\"gradient\":{},\"blur\":false},\"hidden\":\"false\",\"type\":\"grouped\",\"size\":{\"height\":{},\"width\":{}},\"corner_radius\":{\"units\":\"pixels\"},\"alignment\":\"leading\"},\"content\":[{\"guid\":\"2643b84e-944e-4884-828d-5a9035a619f4\",\"type\":\"layout-linear\",\"properties\":{\"orientation\":\"horizontal\",\"hidden\":\"false\",\"type\":\"grouped\",\"margin\":{\"bottom\":16,\"top\":8},\"alignment\":\"center\"},\"content\":[]},{\"guid\":\"661400d3-6b30-49a5-a2cd-6a14d7e1231a\",\"type\":\"layout-linear\",\"properties\":{\"orientation\":\"horizontal\",\"background\":{\"gradient\":{\"colors\":[{\"hex\":\"#ffffff\",\"alpha\":0.3}]},\"blur\":false},\"hidden\":\"false\",\"type\":\"grouped\",\"size\":{\"height\":{}},\"margin\":{\"bottom\":12},\"alignment\":\"center\"},\"content\":[{\"guid\":\"6ac2fd45-63ab-4847-a9f1-bdc163bbf082\",\"type\":\"image\",\"properties\":{\"url\":\"https://static2.tinkoff.ru/portfolio/stories/images/57_2.png\",\"alignment\":\"center\",\"size\":{\"height\":{\"value\":232,\"units\":\"pixels\"},\"width\":{\"value\":288,\"units\":\"pixels\"}},\"margin\":{\"top\":0,\"bottom\":0},\"content_mode\":\"fill\",\"alpha\":1}}]},{\"guid\":\"7cb92e78-9922-4aca-96dc-af4a4f8175c8\",\"type\":\"layout-linear\",\"properties\":{\"orientation\":\"vertical\",\"background\":{\"gradient\":{\"colors\":[]},\"blur\":false},\"hidden\":\"false\",\"type\":\"grouped\",\"size\":{\"height\":{}},\"corner_radius\":{\"units\":\"pixels\"},\"alignment\":\"center\"},\"content\":[{\"guid\":\"e56c6fb4-dd76-4757-a89e-ac3f95741406\",\"type\":\"layout-linear\",\"description\":\"копия\",\"properties\":{\"orientation\":\"horizontal\",\"hidden\":\"false\",\"type\":\"grouped\",\"alignment\":\"leading\"},\"content\":[{\"guid\":\"5375757d-203e-4068-8d36-54cc1f6999d8\",\"type\":\"label\",\"properties\":{\"text\":\"Нажмите «Изменить ПИН-код».\",\"font_size\":20,\"font_type\":\"normal\",\"font_color\":{\"hex\":\"#ffffff\",\"alpha\":1},\"alignment\":\"leading\",\"background\":{\"gradient\":{\"colors\":[],\"direction\":\"vertical\"},\"blur\":false},\"margin\":{\"left\":16,\"right\":16}},\"content\":[]}]},{\"guid\":\"8f4a3264-d5b9-45a1-bda4-f0d35f045a6c\",\"type\":\"layout-linear\",\"properties\":{\"orientation\":\"horizontal\",\"hidden\":\"false\",\"type\":\"grouped\",\"alignment\":\"center\"},\"content\":[]}]}]}]},{\"guid\":\"14e04885-1e2f-4649-bd86-b1f1085fd988\",\"type\":\"story-page\",\"description\":\"3\",\"properties\":{\"flip_interval\":10,\"background\":{\"gradient\":{\"colors\":[{\"hex\":\"#00b3e0\",\"alpha\":1},{\"hex\":\"#b596e1\",\"alpha\":1}],\"direction\":\"diagonal\"},\"blur\":false},\"hidden\":\"false\"},\"content\":[{\"guid\":\"9e5b2c05-0342-47a1-8abb-9d5cd95172a1\",\"type\":\"layout-linear\",\"properties\":{\"orientation\":\"vertical\",\"background\":{\"gradient\":{},\"blur\":false},\"hidden\":\"false\",\"type\":\"grouped\",\"size\":{\"height\":{},\"width\":{}},\"corner_radius\":{\"units\":\"pixels\"},\"alignment\":\"leading\"},\"content\":[{\"guid\":\"80983535-cf2d-453b-9b2e-f8dce2f10ff6\",\"type\":\"layout-linear\",\"properties\":{\"orientation\":\"horizontal\",\"hidden\":\"false\",\"type\":\"grouped\",\"margin\":{\"bottom\":16,\"top\":8},\"alignment\":\"center\"},\"content\":[]},{\"guid\":\"ef8d88ec-6027-4d24-aee0-f5d2c9d0b509\",\"type\":\"layout-linear\",\"properties\":{\"orientation\":\"horizontal\",\"background\":{\"gradient\":{\"colors\":[{\"hex\":\"#ffffff\",\"alpha\":0.3}]},\"blur\":false},\"hidden\":\"false\",\"type\":\"grouped\",\"size\":{\"height\":{}},\"margin\":{\"bottom\":12},\"alignment\":\"center\"},\"content\":[{\"guid\":\"316b7b50-d83e-4243-990b-2bcc18103382\",\"type\":\"image\",\"properties\":{\"url\":\"https://static2.tinkoff.ru/portfolio/stories/images/57_3.png\",\"alignment\":\"center\",\"size\":{\"height\":{\"value\":232,\"units\":\"pixels\"},\"width\":{\"value\":288,\"units\":\"pixels\"}},\"margin\":{\"top\":0,\"bottom\":0},\"content_mode\":\"fill\",\"alpha\":1}}]},{\"guid\":\"c64899a2-09e2-4f3d-ac65-f90e0596c41e\",\"type\":\"layout-linear\",\"properties\":{\"orientation\":\"vertical\",\"background\":{\"gradient\":{\"colors\":[]},\"blur\":false},\"hidden\":\"false\",\"type\":\"grouped\",\"size\":{\"height\":{}},\"corner_radius\":{\"units\":\"pixels\"},\"alignment\":\"center\"},\"content\":[{\"guid\":\"78e1dee8-fe58-4196-abd7-dfc337789a11\",\"type\":\"layout-linear\",\"description\":\"копия\",\"properties\":{\"orientation\":\"horizontal\",\"hidden\":\"false\",\"type\":\"grouped\",\"alignment\":\"leading\"},\"content\":[{\"guid\":\"a99ef1d1-6906-4031-ad16-920221ba27bd\",\"type\":\"label\",\"properties\":{\"text\":\"Введите дату своего рождения, чтобы разрешить операцию.\",\"font_size\":20,\"font_type\":\"normal\",\"font_color\":{\"hex\":\"#ffffff\",\"alpha\":1},\"alignment\":\"leading\",\"background\":{\"gradient\":{\"colors\":[],\"direction\":\"vertical\"},\"blur\":false},\"margin\":{\"left\":16,\"right\":16}},\"content\":[]}]},{\"guid\":\"6a8d6399-233d-40a3-bbcf-2a024af46199\",\"type\":\"layout-linear\",\"properties\":{\"orientation\":\"horizontal\",\"hidden\":\"false\",\"type\":\"grouped\",\"alignment\":\"center\"},\"content\":[]}]}]}]},{\"guid\":\"f13b3a87-313a-4899-a480-bb98aa59256b\",\"type\":\"story-page\",\"description\":\"4\",\"properties\":{\"flip_interval\":10,\"background\":{\"gradient\":{\"colors\":[{\"hex\":\"#00b3e0\",\"alpha\":1},{\"hex\":\"#b596e1\",\"alpha\":1}],\"direction\":\"diagonal\"},\"blur\":false},\"hidden\":\"false\"},\"content\":[{\"guid\":\"3a606514-8791-4fbc-b0d3-e442779d9f27\",\"type\":\"layout-linear\",\"properties\":{\"orientation\":\"vertical\",\"background\":{\"gradient\":{},\"blur\":false},\"hidden\":\"false\",\"type\":\"grouped\",\"size\":{\"height\":{},\"width\":{}},\"corner_radius\":{\"units\":\"pixels\"},\"alignment\":\"leading\"},\"content\":[{\"guid\":\"74f4ac70-d696-4222-984a-8e8c13d438c7\",\"type\":\"layout-linear\",\"properties\":{\"orientation\":\"horizontal\",\"hidden\":\"false\",\"type\":\"grouped\",\"margin\":{\"bottom\":16,\"top\":8},\"alignment\":\"center\"},\"content\":[]},{\"guid\":\"f2ab957b-b7ad-462b-a9b6-44b71cd28da6\",\"type\":\"layout-linear\",\"properties\":{\"orientation\":\"horizontal\",\"background\":{\"gradient\":{\"colors\":[{\"hex\":\"#ffffff\",\"alpha\":0.3}]},\"blur\":false},\"hidden\":\"false\",\"type\":\"grouped\",\"size\":{\"height\":{}},\"margin\":{\"bottom\":12},\"alignment\":\"center\"},\"content\":[{\"guid\":\"f76336b8-2499-47c6-932c-265ffa8b875e\",\"type\":\"image\",\"properties\":{\"url\":\"https://static2.tinkoff.ru/portfolio/stories/images/57_4.png\",\"alignment\":\"center\",\"size\":{\"height\":{\"value\":232,\"units\":\"pixels\"},\"width\":{\"value\":288,\"units\":\"pixels\"}},\"margin\":{\"top\":0,\"bottom\":0},\"content_mode\":\"fill\",\"alpha\":1}}]},{\"guid\":\"36bee9de-42de-457c-b678-3ba8dfb3e1c3\",\"type\":\"layout-linear\",\"properties\":{\"orientation\":\"vertical\",\"background\":{\"gradient\":{\"colors\":[]},\"blur\":false},\"hidden\":\"false\",\"type\":\"grouped\",\"size\":{\"height\":{}},\"corner_radius\":{\"units\":\"pixels\"},\"alignment\":\"center\"},\"content\":[{\"guid\":\"f39513a0-bb06-4629-be8a-d6aad2ba079f\",\"type\":\"layout-linear\",\"description\":\"копия\",\"properties\":{\"orientation\":\"horizontal\",\"hidden\":\"false\",\"type\":\"grouped\",\"alignment\":\"leading\"},\"content\":[{\"guid\":\"37851dcf-bb4f-4ca4-9ef2-1d7b73427e17\",\"type\":\"label\",\"properties\":{\"text\":\"Введите новую комбинацию и нажмите кнопку «Задать ПИН-код».\",\"font_size\":20,\"font_type\":\"normal\",\"font_color\":{\"hex\":\"#ffffff\",\"alpha\":1},\"alignment\":\"leading\",\"background\":{\"gradient\":{\"colors\":[],\"direction\":\"vertical\"},\"blur\":false},\"margin\":{\"left\":16,\"right\":16}},\"content\":[]}]},{\"guid\":\"2c77ccaa-052e-46ec-9bd1-33bce9ab9af0\",\"type\":\"layout-linear\",\"properties\":{\"orientation\":\"horizontal\",\"hidden\":\"false\",\"type\":\"grouped\",\"alignment\":\"center\"},\"content\":[]}]}]}]}]}'"
      ]
     },
     "execution_count": 12,
     "metadata": {},
     "output_type": "execute_result"
    }
   ],
   "source": [
    "df_st.iloc[0]['story_json']"
   ]
  },
  {
   "cell_type": "code",
   "execution_count": 13,
   "metadata": {},
   "outputs": [
    {
     "data": {
      "text/plain": [
       "'{\"guid\":\"64f4c9ef-647b-4e04-b4d4-02297e939388\",\"type\":\"root\",\"description\":\"https://wiki.tcsbank.ru/pages/viewpage.action?pageId=276651383\",\"properties\":{\"name\":\"Пополнить «Стрелку»\",\"background\":{\"gradient\":{\"colors\":[],\"direction\":\"vertical\"},\"blur\":false},\"icon_url\":\"https://static2.tinkoff.ru/portfolio/stories/icons/strelka_icon_18-07_zahod.png\",\"icon_background\":{\"gradient\":{\"colors\":[{\"hex\":\"#b8a1e0\",\"alpha\":1},{\"hex\":\"#00bee0\",\"alpha\":1}],\"direction\":\"vertical\"},\"blur\":false},\"hide_page_status\":false},\"content\":[{\"guid\":\"dad1c413-2f10-438d-82b4-7a02d22b93ed\",\"type\":\"story-page\",\"properties\":{\"topMask\":false,\"bottomMask\":false,\"flip_interval\":10,\"background\":{\"gradient\":{\"colors\":[{\"hex\":\"#b8a1e0\",\"alpha\":1},{\"hex\":\"#00bee0\",\"alpha\":1}],\"direction\":\"diagonal\"},\"blur\":false},\"hidden\":\"false\",\"disable_tap_zones\":false,\"log_view\":false},\"content\":[{\"guid\":\"4f83ea53-33f7-4654-8b77-7971f3438be2\",\"type\":\"layout-linear\",\"properties\":{\"orientation\":\"vertical\",\"topMask\":false,\"bottomMask\":false,\"background\":{\"gradient\":{\"colors\":[],\"direction\":\"vertical\"},\"blur\":false},\"hidden\":\"false\",\"type\":\"grouped\",\"size\":{\"height\":{\"value\":0,\"units\":\"pixels\"},\"width\":{\"value\":0,\"units\":\"pixels\"}},\"padding\":{\"bottom\":0},\"margin\":{\"top\":0,\"bottom\":0,\"left\":0,\"right\":0},\"corner_radius\":{\"value\":0,\"units\":\"pixels\"},\"border\":{\"width\":0},\"alignment\":\"center\"},\"content\":[{\"guid\":\"a4d1c10a-14c0-4c3b-bc5d-a7406c42e862\",\"type\":\"layout-linear\",\"properties\":{\"orientation\":\"horizontal\",\"topMask\":false,\"bottomMask\":false,\"background\":{\"gradient\":{\"colors\":[],\"direction\":\"vertical\"},\"blur\":false},\"hidden\":\"false\",\"type\":\"grouped\",\"padding\":{\"left\":16},\"alignment\":\"center\"},\"content\":[{\"guid\":\"ddfcac12-af17-44c6-83b2-625ad5792978\",\"type\":\"image\",\"properties\":{\"url\":\"https://static2.tinkoff.ru/portfolio/stories/icons/strelka_icon_18-07_zahod.png\",\"alignment\":\"leading\",\"size\":{\"height\":{\"value\":88,\"units\":\"pixels\"},\"width\":{\"value\":88,\"units\":\"pixels\"}},\"corner_radius\":{\"value\":50,\"units\":\"percent\"},\"content_mode\":\"fill\",\"alpha\":1,\"background\":{\"gradient\":{\"colors\":[{\"hex\":\"#ffffff\",\"alpha\":0.2}],\"direction\":\"vertical\"},\"blur\":false}}}]},{\"guid\":\"0aa0ba62-3a87-4ecd-9af0-844c0489d75c\",\"type\":\"layout-linear\",\"properties\":{\"orientation\":\"horizontal\",\"topMask\":false,\"bottomMask\":false,\"background\":{\"gradient\":{\"colors\":[]},\"blur\":false},\"hidden\":\"false\",\"type\":\"grouped\",\"template_name\":\"text\",\"size\":{\"height\":{\"value\":0,\"units\":\"pixels\"},\"width\":{\"value\":0,\"units\":\"pixels\"}},\"padding\":{\"top\":0,\"bottom\":\"0\",\"left\":16,\"right\":16},\"margin\":{\"top\":16,\"bottom\":\"16\",\"left\":0,\"right\":0},\"corner_radius\":{\"value\":0,\"units\":\"pixels\"},\"border\":{\"width\":0}},\"content\":[{\"guid\":\"ca860596-cccd-4af7-8237-313252a15549\",\"type\":\"label\",\"properties\":{\"text\":\"Как\\xa0пополнить карту «Стрелка»\",\"font_size\":32,\"font_type\":\"bold\",\"font_color\":{\"hex\":\"#ffffff\",\"alpha\":1},\"alignment\":\"leading\",\"corner_radius\":{\"value\":0,\"units\":\"pixels\"},\"background\":{\"gradient\":{\"colors\":[],\"direction\":\"diagonal\"},\"blur\":false},\"size\":{\"height\":{\"value\":0,\"units\":\"pixels\"},\"width\":{\"value\":0,\"units\":\"pixels\"}},\"padding\":{\"top\":0,\"bottom\":0,\"left\":0,\"right\":0},\"margin\":{\"top\":\"0\",\"bottom\":\"0\",\"left\":\"0\",\"right\":\"0\"},\"border\":{\"width\":0}}}]},{\"guid\":\"686bb66d-1620-4ca3-83b6-16e6e04dc7aa\",\"type\":\"layout-linear\",\"properties\":{\"orientation\":\"horizontal\",\"topMask\":false,\"bottomMask\":false,\"background\":{\"gradient\":{\"colors\":[{\"hex\":\"#ffffff\",\"alpha\":0}]},\"blur\":false},\"hidden\":\"false\",\"type\":\"grouped\",\"template_name\":\"text\",\"size\":{\"height\":{\"value\":0,\"units\":\"pixels\"},\"width\":{\"value\":0,\"units\":\"pixels\"}},\"padding\":{\"top\":16,\"left\":16,\"right\":16,\"bottom\":32},\"margin\":{\"top\":0,\"bottom\":\"0\",\"left\":0,\"right\":0},\"corner_radius\":{\"value\":0,\"units\":\"pixels\"},\"border\":{\"width\":0}},\"content\":[{\"guid\":\"47233012-ed03-4b5f-9cac-6fda0e78b838\",\"type\":\"label\",\"properties\":{\"text\":\"В приложении Тинькофф\",\"font_size\":20,\"font_type\":\"normal\",\"font_color\":{\"hex\":\"#ffffff\",\"alpha\":1},\"alignment\":\"leading\",\"corner_radius\":{\"value\":0,\"units\":\"pixels\"},\"background\":{\"gradient\":{\"colors\":[],\"direction\":\"diagonal\"},\"blur\":false},\"size\":{\"height\":{\"value\":0,\"units\":\"pixels\"},\"width\":{\"value\":0,\"units\":\"pixels\"}},\"padding\":{\"top\":0,\"bottom\":0,\"left\":0,\"right\":0},\"margin\":{\"top\":0,\"left\":\"0\",\"right\":\"0\"},\"border\":{\"width\":0}}}]}]}]},{\"guid\":\"1a995bd2-6f8f-449a-9ef8-4473e072bba9\",\"type\":\"story-page\",\"description\":\"1\",\"properties\":{\"topMask\":false,\"bottomMask\":false,\"flip_interval\":15,\"background\":{\"gradient\":{\"colors\":[{\"hex\":\"#00b3e0\",\"alpha\":1},{\"hex\":\"#b596e1\",\"alpha\":1}],\"direction\":\"diagonal\"},\"blur\":false},\"hidden\":\"false\",\"disable_tap_zones\":false,\"log_view\":false},\"content\":[{\"guid\":\"87c78132-d0bd-49e1-980c-e9ff5fd2808d\",\"type\":\"layout-linear\",\"properties\":{\"orientation\":\"vertical\",\"background\":{\"gradient\":{},\"blur\":false},\"hidden\":\"false\",\"type\":\"grouped\",\"size\":{\"height\":{},\"width\":{}},\"corner_radius\":{\"units\":\"pixels\"},\"alignment\":\"leading\"},\"content\":[{\"guid\":\"810f4387-f4e2-49fb-8cfa-43c66b23b8f5\",\"type\":\"layout-linear\",\"properties\":{\"orientation\":\"horizontal\",\"background\":{\"gradient\":{\"colors\":[{\"hex\":\"#ffffff\",\"alpha\":0.3}]},\"blur\":false},\"hidden\":\"false\",\"type\":\"grouped\",\"size\":{\"height\":{}},\"margin\":{\"bottom\":12},\"alignment\":\"center\"},\"content\":[{\"guid\":\"31665f1c-222d-440a-9492-0e48fb56f35d\",\"type\":\"image\",\"properties\":{\"url\":\"https://static2.tinkoff.ru/portfolio/stories/images/331_2a.png\",\"alignment\":\"center\",\"size\":{\"height\":{\"value\":232,\"units\":\"pixels\"},\"width\":{\"value\":288,\"units\":\"pixels\"}},\"margin\":{\"top\":0,\"bottom\":0},\"content_mode\":\"fill\",\"alpha\":1,\"background\":{\"gradient\":{\"colors\":[],\"direction\":\"vertical\"},\"blur\":false}}}]},{\"guid\":\"d0f83f54-2395-49b8-968b-bd3e56880280\",\"type\":\"layout-linear\",\"properties\":{\"orientation\":\"vertical\",\"background\":{\"gradient\":{\"colors\":[]},\"blur\":false},\"hidden\":\"false\",\"type\":\"grouped\",\"size\":{\"height\":{}},\"corner_radius\":{\"units\":\"pixels\"},\"alignment\":\"center\"},\"content\":[{\"guid\":\"78abb5ec-1567-4444-9b86-7f155d3d1994\",\"type\":\"layout-linear\",\"description\":\"копия\",\"properties\":{\"orientation\":\"horizontal\",\"hidden\":\"false\",\"type\":\"grouped\",\"alignment\":\"leading\"},\"content\":[{\"guid\":\"f5096d22-ff2d-46c6-a11a-09ed5b5d2fa3\",\"type\":\"label\",\"properties\":{\"text\":\"Откройте вкладку «Оплатить» и\\xa0выберите в\\xa0платежах «Транспорт».\",\"font_size\":17,\"font_type\":\"normal\",\"font_color\":{\"hex\":\"#ffffff\",\"alpha\":1},\"alignment\":\"leading\",\"background\":{\"gradient\":{\"colors\":[],\"direction\":\"vertical\"},\"blur\":false},\"margin\":{\"left\":16,\"right\":16}},\"content\":[]}]},{\"guid\":\"708f8fe3-0fbc-4001-a61a-94ff2bdaecdb\",\"type\":\"layout-linear\",\"properties\":{\"orientation\":\"horizontal\",\"hidden\":\"false\",\"type\":\"grouped\",\"alignment\":\"center\"}}]}]}]},{\"guid\":\"b1c08429-3b2d-451f-9308-6d42e80101f7\",\"type\":\"story-page\",\"description\":\"2\",\"properties\":{\"flip_interval\":15,\"background\":{\"gradient\":{\"colors\":[{\"hex\":\"#00b3e0\",\"alpha\":1},{\"hex\":\"#b596e1\",\"alpha\":1}],\"direction\":\"diagonal\"},\"blur\":false},\"hidden\":\"false\"},\"content\":[{\"guid\":\"8a61f4e8-7449-4ca0-885a-bbfc1e9299f9\",\"type\":\"layout-linear\",\"properties\":{\"orientation\":\"vertical\",\"background\":{\"gradient\":{},\"blur\":false},\"hidden\":\"false\",\"type\":\"grouped\",\"size\":{\"height\":{},\"width\":{}},\"corner_radius\":{\"units\":\"pixels\"},\"alignment\":\"leading\"},\"content\":[{\"guid\":\"85219e0f-b6fb-45c4-b7a0-42fa6f952406\",\"type\":\"layout-linear\",\"properties\":{\"orientation\":\"horizontal\",\"background\":{\"gradient\":{\"colors\":[{\"hex\":\"#ffffff\",\"alpha\":0.3}]},\"blur\":false},\"hidden\":\"false\",\"type\":\"grouped\",\"size\":{\"height\":{}},\"margin\":{\"bottom\":12},\"alignment\":\"center\"},\"content\":[{\"guid\":\"ebf32c36-0e66-4ae4-914d-41faf008f58b\",\"type\":\"image\",\"properties\":{\"url\":\"https://static2.tinkoff.ru/portfolio/stories/images/331_3a.png\",\"alignment\":\"center\",\"size\":{\"height\":{\"value\":232,\"units\":\"pixels\"},\"width\":{\"value\":288,\"units\":\"pixels\"}},\"margin\":{\"top\":0,\"bottom\":0},\"content_mode\":\"fill\",\"alpha\":1,\"background\":{\"gradient\":{\"colors\":[],\"direction\":\"vertical\"},\"blur\":false}}}]},{\"guid\":\"9c6c4db0-b2ca-4ae6-a97f-6e07a0eac8cb\",\"type\":\"layout-linear\",\"properties\":{\"orientation\":\"vertical\",\"background\":{\"gradient\":{\"colors\":[]},\"blur\":false},\"hidden\":\"false\",\"type\":\"grouped\",\"size\":{\"height\":{}},\"corner_radius\":{\"units\":\"pixels\"},\"alignment\":\"center\"},\"content\":[{\"guid\":\"8305fccb-8fb7-42b0-ad35-9630f22dd6ef\",\"type\":\"layout-linear\",\"description\":\"копия\",\"properties\":{\"orientation\":\"horizontal\",\"hidden\":\"false\",\"type\":\"grouped\",\"alignment\":\"leading\"},\"content\":[{\"guid\":\"e07ecc55-84d5-49f2-ad16-c62ac6be4084\",\"type\":\"label\",\"properties\":{\"text\":\"Выберите в меню карту «Стрелка».\",\"font_size\":17,\"font_type\":\"normal\",\"font_color\":{\"hex\":\"#ffffff\",\"alpha\":1},\"alignment\":\"leading\",\"background\":{\"gradient\":{\"colors\":[],\"direction\":\"vertical\"},\"blur\":false},\"margin\":{\"left\":16,\"right\":16}},\"content\":[]}]},{\"guid\":\"1272d68c-130e-43f4-b5d7-d115111cfc62\",\"type\":\"layout-linear\",\"properties\":{\"orientation\":\"horizontal\",\"hidden\":\"false\",\"type\":\"grouped\",\"alignment\":\"center\"},\"content\":[]}]}]}]},{\"guid\":\"9d742ee5-e914-4609-9585-dfdae7e6e507\",\"type\":\"story-page\",\"description\":\"3\",\"properties\":{\"topMask\":false,\"bottomMask\":false,\"flip_interval\":15,\"background\":{\"gradient\":{\"colors\":[{\"hex\":\"#00b3e0\",\"alpha\":1},{\"hex\":\"#b596e1\",\"alpha\":1}],\"direction\":\"diagonal\"},\"blur\":false},\"hidden\":\"false\",\"disable_tap_zones\":false,\"log_view\":false},\"content\":[{\"guid\":\"acdcf6b3-6d81-444a-8bc6-b1f1ae9f747c\",\"type\":\"layout-linear\",\"properties\":{\"orientation\":\"vertical\",\"background\":{\"gradient\":{},\"blur\":false},\"hidden\":\"false\",\"type\":\"grouped\",\"size\":{\"height\":{},\"width\":{}},\"corner_radius\":{\"units\":\"pixels\"},\"alignment\":\"leading\"},\"content\":[{\"guid\":\"1d4dd1d8-0b23-46d9-ba5b-9b12944ae18e\",\"type\":\"layout-linear\",\"properties\":{\"orientation\":\"horizontal\",\"background\":{\"gradient\":{\"colors\":[{\"hex\":\"#ffffff\",\"alpha\":0.3}]},\"blur\":false},\"hidden\":\"false\",\"type\":\"grouped\",\"size\":{\"height\":{}},\"margin\":{\"bottom\":12},\"alignment\":\"center\"},\"content\":[{\"guid\":\"f7ad7365-9b18-4fc0-af9f-02a15c352225\",\"type\":\"image\",\"properties\":{\"url\":\"https://static2.tinkoff.ru/portfolio/stories/images/331_4a.png\",\"alignment\":\"center\",\"size\":{\"height\":{\"value\":232,\"units\":\"pixels\"},\"width\":{\"value\":288,\"units\":\"pixels\"}},\"margin\":{\"top\":0,\"bottom\":0},\"content_mode\":\"fill\",\"alpha\":1,\"background\":{\"gradient\":{\"colors\":[],\"direction\":\"vertical\"},\"blur\":false}}}]},{\"guid\":\"cec5e6b6-f93f-44f0-a112-4a9bf2f4cf50\",\"type\":\"layout-linear\",\"properties\":{\"orientation\":\"vertical\",\"background\":{\"gradient\":{\"colors\":[]},\"blur\":false},\"hidden\":\"false\",\"type\":\"grouped\",\"size\":{\"height\":{}},\"corner_radius\":{\"units\":\"pixels\"},\"alignment\":\"center\"},\"content\":[{\"guid\":\"76c89399-ed4f-405f-8e2f-215d9b071117\",\"type\":\"layout-linear\",\"description\":\"копия\",\"properties\":{\"orientation\":\"horizontal\",\"hidden\":\"false\",\"type\":\"grouped\",\"alignment\":\"leading\"},\"content\":[{\"guid\":\"adcc711b-3dfd-4a59-897f-9266ec93ae72\",\"type\":\"label\",\"properties\":{\"text\":\"Введите номер карты и\\xa0сумму, которую хотите внести на\\xa0счет. Нажмите кнопку «Оплатить». \",\"font_size\":17,\"font_type\":\"normal\",\"font_color\":{\"hex\":\"#ffffff\",\"alpha\":1},\"alignment\":\"leading\",\"background\":{\"gradient\":{\"colors\":[],\"direction\":\"vertical\"},\"blur\":false},\"margin\":{\"left\":16,\"right\":16}},\"content\":[]}]},{\"guid\":\"3cb58213-5882-494a-92d0-637e7bc16028\",\"type\":\"layout-linear\",\"properties\":{\"orientation\":\"horizontal\",\"topMask\":false,\"bottomMask\":false,\"background\":{\"gradient\":{\"colors\":[],\"direction\":\"diagonal\"},\"blur\":false},\"hidden\":\"false\",\"type\":\"grouped\",\"size\":{\"height\":{\"value\":0,\"units\":\"pixels\"},\"width\":{\"value\":0,\"units\":\"pixels\"}},\"padding\":{\"top\":0,\"bottom\":0,\"left\":0,\"right\":0},\"margin\":{\"top\":16,\"bottom\":0,\"left\":0,\"right\":0},\"corner_radius\":{\"value\":0,\"units\":\"pixels\"},\"border\":{\"width\":0},\"alignment\":\"trailing\"},\"content\":[{\"guid\":\"583c0954-6934-40f0-bbc0-442687498ddf\",\"type\":\"label\",\"properties\":{\"text\":\"Пополнить карту\",\"font_size\":15,\"font_type\":\"normal\",\"font_color\":{\"hex\":\"#000000\",\"alpha\":1},\"alignment\":\"center\",\"corner_radius\":{\"value\":\"50\",\"units\":\"percent\"},\"background\":{\"gradient\":{\"colors\":[{\"hex\":\"#ffdd2c\",\"alpha\":1}],\"direction\":\"diagonal\"},\"blur\":false},\"size\":{\"height\":{\"value\":\"36\",\"units\":\"pixels\"},\"width\":{\"value\":\"0\",\"units\":\"pixels\"}},\"padding\":{\"top\":\"0\",\"bottom\":\"0\",\"left\":\"32\",\"right\":\"32\"},\"margin\":{\"top\":\"0\",\"bottom\":\"0\",\"left\":\"0\",\"right\":\"0\"},\"border\":{\"width\":0},\"actions\":[{\"type\":\"deeplink\",\"parameters\":\"{\\\\\\\\\"url\\\\\\\\\":\\\\\\\\\"tinkoffbank://Main/Pay?Provider=strelka\\\\\\\\\"}\"},{\"type\":\"common_request\",\"parameters\":\"{\\\\\\\\\"url\\\\\\\\\":\\\\\\\\\"{{cta_url}}\\\\\\\\\"}\"}]}}]},{\"guid\":\"b0aade75-d138-4e56-9905-ec13c2d81b41\",\"type\":\"layout-linear\",\"properties\":{\"orientation\":\"horizontal\",\"hidden\":\"false\",\"type\":\"grouped\",\"alignment\":\"center\"},\"content\":[]}]}]}]}]}'"
      ]
     },
     "execution_count": 13,
     "metadata": {},
     "output_type": "execute_result"
    }
   ],
   "source": [
    "df_st.iloc[1]['story_json']"
   ]
  },
  {
   "cell_type": "code",
   "execution_count": 63,
   "metadata": {},
   "outputs": [],
   "source": [
    "import pandas as pd\n",
    "import numpy as np\n",
    "import matplotlib.pyplot as plt\n",
    "from sklearn.feature_extraction.text import CountVectorizer\n",
    "from nltk.corpus import stopwords"
   ]
  },
  {
   "cell_type": "code",
   "execution_count": 60,
   "metadata": {},
   "outputs": [
    {
     "data": {
      "text/html": [
       "<div>\n",
       "<style scoped>\n",
       "    .dataframe tbody tr th:only-of-type {\n",
       "        vertical-align: middle;\n",
       "    }\n",
       "\n",
       "    .dataframe tbody tr th {\n",
       "        vertical-align: top;\n",
       "    }\n",
       "\n",
       "    .dataframe thead th {\n",
       "        text-align: right;\n",
       "    }\n",
       "</style>\n",
       "<table border=\"1\" class=\"dataframe\">\n",
       "  <thead>\n",
       "    <tr style=\"text-align: right;\">\n",
       "      <th></th>\n",
       "      <th>story_id</th>\n",
       "      <th>story_json</th>\n",
       "    </tr>\n",
       "  </thead>\n",
       "  <tbody>\n",
       "    <tr>\n",
       "      <th>0</th>\n",
       "      <td>127</td>\n",
       "      <td>['text\":\"Как изменить ПИН-код', 'text\":\"Зайдит...</td>\n",
       "    </tr>\n",
       "    <tr>\n",
       "      <th>1</th>\n",
       "      <td>254</td>\n",
       "      <td>['text\":\"Как\\xa0пополнить карту «Стрелка»', 't...</td>\n",
       "    </tr>\n",
       "    <tr>\n",
       "      <th>2</th>\n",
       "      <td>865</td>\n",
       "      <td>['text\":\"Тинькофф Инвестиции\\xa02.0', 'text\":\"...</td>\n",
       "    </tr>\n",
       "    <tr>\n",
       "      <th>3</th>\n",
       "      <td>1491</td>\n",
       "      <td>['text\":\"Выставка уличной культуры', 'text\":\"1...</td>\n",
       "    </tr>\n",
       "    <tr>\n",
       "      <th>4</th>\n",
       "      <td>598</td>\n",
       "      <td>['text\":\"Необычные виды спорта', 'text\":\"Если ...</td>\n",
       "    </tr>\n",
       "    <tr>\n",
       "      <th>5</th>\n",
       "      <td>202</td>\n",
       "      <td>['text\":\"Скрытые счета и\\xa0карты', 'text\":\"Мо...</td>\n",
       "    </tr>\n",
       "    <tr>\n",
       "      <th>6</th>\n",
       "      <td>1405</td>\n",
       "      <td>['text\":\"Тинькофф-журнал отвечает на\\xa0вопрос...</td>\n",
       "    </tr>\n",
       "    <tr>\n",
       "      <th>7</th>\n",
       "      <td>195</td>\n",
       "      <td>['text\":\"РАЗВЛЕЧЕНИЯ', 'text\":\"Лучшие места дл...</td>\n",
       "    </tr>\n",
       "    <tr>\n",
       "      <th>8</th>\n",
       "      <td>1524</td>\n",
       "      <td>['text\":\"Рюкзаки для школы', 'text\":\"Лучшие рю...</td>\n",
       "    </tr>\n",
       "    <tr>\n",
       "      <th>9</th>\n",
       "      <td>205</td>\n",
       "      <td>['text\":\"Что такое овердрафт и\\xa0зачем он\\xa0...</td>\n",
       "    </tr>\n",
       "  </tbody>\n",
       "</table>\n",
       "</div>"
      ],
      "text/plain": [
       "   story_id                                         story_json\n",
       "0       127  ['text\":\"Как изменить ПИН-код', 'text\":\"Зайдит...\n",
       "1       254  ['text\":\"Как\\xa0пополнить карту «Стрелка»', 't...\n",
       "2       865  ['text\":\"Тинькофф Инвестиции\\xa02.0', 'text\":\"...\n",
       "3      1491  ['text\":\"Выставка уличной культуры', 'text\":\"1...\n",
       "4       598  ['text\":\"Необычные виды спорта', 'text\":\"Если ...\n",
       "5       202  ['text\":\"Скрытые счета и\\xa0карты', 'text\":\"Мо...\n",
       "6      1405  ['text\":\"Тинькофф-журнал отвечает на\\xa0вопрос...\n",
       "7       195  ['text\":\"РАЗВЛЕЧЕНИЯ', 'text\":\"Лучшие места дл...\n",
       "8      1524  ['text\":\"Рюкзаки для школы', 'text\":\"Лучшие рю...\n",
       "9       205  ['text\":\"Что такое овердрафт и\\xa0зачем он\\xa0..."
      ]
     },
     "execution_count": 60,
     "metadata": {},
     "output_type": "execute_result"
    }
   ],
   "source": [
    "import numpy as np\n",
    "import pandas as pd\n",
    " \n",
    "data = pd.read_csv('stories.csv', sep = ';')\n",
    "df = pd.DataFrame(data)\n",
    "df.head(10)"
   ]
  },
  {
   "cell_type": "code",
   "execution_count": null,
   "metadata": {},
   "outputs": [],
   "source": []
  },
  {
   "cell_type": "code",
   "execution_count": 61,
   "metadata": {},
   "outputs": [
    {
     "data": {
      "text/html": [
       "<div>\n",
       "<style scoped>\n",
       "    .dataframe tbody tr th:only-of-type {\n",
       "        vertical-align: middle;\n",
       "    }\n",
       "\n",
       "    .dataframe tbody tr th {\n",
       "        vertical-align: top;\n",
       "    }\n",
       "\n",
       "    .dataframe thead th {\n",
       "        text-align: right;\n",
       "    }\n",
       "</style>\n",
       "<table border=\"1\" class=\"dataframe\">\n",
       "  <thead>\n",
       "    <tr style=\"text-align: right;\">\n",
       "      <th></th>\n",
       "      <th>story_id</th>\n",
       "      <th>story_json</th>\n",
       "    </tr>\n",
       "  </thead>\n",
       "  <tbody>\n",
       "    <tr>\n",
       "      <th>0</th>\n",
       "      <td>127</td>\n",
       "      <td>как изменить пин код        зайдите с гл...</td>\n",
       "    </tr>\n",
       "    <tr>\n",
       "      <th>1</th>\n",
       "      <td>254</td>\n",
       "      <td>как  пополнить карту  стрелка         в ...</td>\n",
       "    </tr>\n",
       "    <tr>\n",
       "      <th>2</th>\n",
       "      <td>865</td>\n",
       "      <td>тинькофф инвестиции  2 0        у нас хо...</td>\n",
       "    </tr>\n",
       "    <tr>\n",
       "      <th>3</th>\n",
       "      <td>1491</td>\n",
       "      <td>выставка уличной культуры        18 и 19...</td>\n",
       "    </tr>\n",
       "    <tr>\n",
       "      <th>4</th>\n",
       "      <td>598</td>\n",
       "      <td>необычные виды спорта        если бег  б...</td>\n",
       "    </tr>\n",
       "    <tr>\n",
       "      <th>...</th>\n",
       "      <td>...</td>\n",
       "      <td>...</td>\n",
       "    </tr>\n",
       "    <tr>\n",
       "      <th>954</th>\n",
       "      <td>882</td>\n",
       "      <td>как компенсировать авиабилет милями     ...</td>\n",
       "    </tr>\n",
       "    <tr>\n",
       "      <th>955</th>\n",
       "      <td>1473</td>\n",
       "      <td>как компенсировать покупку баллами  брав...</td>\n",
       "    </tr>\n",
       "    <tr>\n",
       "      <th>956</th>\n",
       "      <td>266</td>\n",
       "      <td>как оплатить счет за  коммуналку        ...</td>\n",
       "    </tr>\n",
       "    <tr>\n",
       "      <th>957</th>\n",
       "      <td>764</td>\n",
       "      <td>плачу картой  терминал просит подпись  а...</td>\n",
       "    </tr>\n",
       "    <tr>\n",
       "      <th>958</th>\n",
       "      <td>224</td>\n",
       "      <td>как найти банкомат        и снять наличн...</td>\n",
       "    </tr>\n",
       "  </tbody>\n",
       "</table>\n",
       "<p>959 rows × 2 columns</p>\n",
       "</div>"
      ],
      "text/plain": [
       "     story_id                                         story_json\n",
       "0         127        как изменить пин код        зайдите с гл...\n",
       "1         254        как  пополнить карту  стрелка         в ...\n",
       "2         865        тинькофф инвестиции  2 0        у нас хо...\n",
       "3        1491        выставка уличной культуры        18 и 19...\n",
       "4         598        необычные виды спорта        если бег  б...\n",
       "..        ...                                                ...\n",
       "954       882        как компенсировать авиабилет милями     ...\n",
       "955      1473        как компенсировать покупку баллами  брав...\n",
       "956       266        как оплатить счет за  коммуналку        ...\n",
       "957       764        плачу картой  терминал просит подпись  а...\n",
       "958       224        как найти банкомат        и снять наличн...\n",
       "\n",
       "[959 rows x 2 columns]"
      ]
     },
     "execution_count": 61,
     "metadata": {},
     "output_type": "execute_result"
    }
   ],
   "source": [
    "df.story_json = df.story_json.str.lower()\n",
    "df.story_json = df.story_json.str.replace('[^a-zа-я0-9 - ]', ' ')\n",
    "df.story_json = df.story_json.str.replace('xa0', ' ')\n",
    "df.story_json = df.story_json.str.replace('text', ' ')\n",
    "df"
   ]
  },
  {
   "cell_type": "code",
   "execution_count": 62,
   "metadata": {},
   "outputs": [
    {
     "name": "stderr",
     "output_type": "stream",
     "text": [
      "[nltk_data] Downloading package punkt to\n",
      "[nltk_data]     C:\\Users\\Екатерина\\AppData\\Roaming\\nltk_data...\n",
      "[nltk_data]   Package punkt is already up-to-date!\n"
     ]
    },
    {
     "data": {
      "text/html": [
       "<div>\n",
       "<style scoped>\n",
       "    .dataframe tbody tr th:only-of-type {\n",
       "        vertical-align: middle;\n",
       "    }\n",
       "\n",
       "    .dataframe tbody tr th {\n",
       "        vertical-align: top;\n",
       "    }\n",
       "\n",
       "    .dataframe thead th {\n",
       "        text-align: right;\n",
       "    }\n",
       "</style>\n",
       "<table border=\"1\" class=\"dataframe\">\n",
       "  <thead>\n",
       "    <tr style=\"text-align: right;\">\n",
       "      <th></th>\n",
       "      <th>story_id</th>\n",
       "      <th>story_json</th>\n",
       "    </tr>\n",
       "  </thead>\n",
       "  <tbody>\n",
       "    <tr>\n",
       "      <th>0</th>\n",
       "      <td>127</td>\n",
       "      <td>[как, изменить, пин, код, зайдите, с, главной,...</td>\n",
       "    </tr>\n",
       "    <tr>\n",
       "      <th>1</th>\n",
       "      <td>254</td>\n",
       "      <td>[как, пополнить, карту, стрелка, в, приложении...</td>\n",
       "    </tr>\n",
       "    <tr>\n",
       "      <th>2</th>\n",
       "      <td>865</td>\n",
       "      <td>[тинькофф, инвестиции, 2, 0, у, нас, хорошие, ...</td>\n",
       "    </tr>\n",
       "    <tr>\n",
       "      <th>3</th>\n",
       "      <td>1491</td>\n",
       "      <td>[выставка, уличной, культуры, 18, и, 19, авгус...</td>\n",
       "    </tr>\n",
       "    <tr>\n",
       "      <th>4</th>\n",
       "      <td>598</td>\n",
       "      <td>[необычные, виды, спорта, если, бег, бассейн, ...</td>\n",
       "    </tr>\n",
       "    <tr>\n",
       "      <th>...</th>\n",
       "      <td>...</td>\n",
       "      <td>...</td>\n",
       "    </tr>\n",
       "    <tr>\n",
       "      <th>954</th>\n",
       "      <td>882</td>\n",
       "      <td>[как, компенсировать, авиабилет, милями, зайди...</td>\n",
       "    </tr>\n",
       "    <tr>\n",
       "      <th>955</th>\n",
       "      <td>1473</td>\n",
       "      <td>[как, компенсировать, покупку, баллами, браво,...</td>\n",
       "    </tr>\n",
       "    <tr>\n",
       "      <th>956</th>\n",
       "      <td>266</td>\n",
       "      <td>[как, оплатить, счет, за, коммуналку, и, не, о...</td>\n",
       "    </tr>\n",
       "    <tr>\n",
       "      <th>957</th>\n",
       "      <td>764</td>\n",
       "      <td>[плачу, картой, терминал, просит, подпись, а, ...</td>\n",
       "    </tr>\n",
       "    <tr>\n",
       "      <th>958</th>\n",
       "      <td>224</td>\n",
       "      <td>[как, найти, банкомат, и, снять, наличные, ряд...</td>\n",
       "    </tr>\n",
       "  </tbody>\n",
       "</table>\n",
       "<p>959 rows × 2 columns</p>\n",
       "</div>"
      ],
      "text/plain": [
       "     story_id                                         story_json\n",
       "0         127  [как, изменить, пин, код, зайдите, с, главной,...\n",
       "1         254  [как, пополнить, карту, стрелка, в, приложении...\n",
       "2         865  [тинькофф, инвестиции, 2, 0, у, нас, хорошие, ...\n",
       "3        1491  [выставка, уличной, культуры, 18, и, 19, авгус...\n",
       "4         598  [необычные, виды, спорта, если, бег, бассейн, ...\n",
       "..        ...                                                ...\n",
       "954       882  [как, компенсировать, авиабилет, милями, зайди...\n",
       "955      1473  [как, компенсировать, покупку, баллами, браво,...\n",
       "956       266  [как, оплатить, счет, за, коммуналку, и, не, о...\n",
       "957       764  [плачу, картой, терминал, просит, подпись, а, ...\n",
       "958       224  [как, найти, банкомат, и, снять, наличные, ряд...\n",
       "\n",
       "[959 rows x 2 columns]"
      ]
     },
     "execution_count": 62,
     "metadata": {},
     "output_type": "execute_result"
    }
   ],
   "source": [
    "import nltk\n",
    "nltk.download('punkt')\n",
    "df['story_json'] = df.apply(lambda row: nltk.word_tokenize(row['story_json']), axis=1)\n",
    "df"
   ]
  },
  {
   "cell_type": "code",
   "execution_count": 65,
   "metadata": {},
   "outputs": [],
   "source": [
    "df['story_json'] = df['story_json'].apply(lambda lst: \n",
    "                        [word for word in lst if word not in stopwords.words('russian')])"
   ]
  },
  {
   "cell_type": "code",
   "execution_count": 66,
   "metadata": {},
   "outputs": [
    {
     "data": {
      "text/html": [
       "<div>\n",
       "<style scoped>\n",
       "    .dataframe tbody tr th:only-of-type {\n",
       "        vertical-align: middle;\n",
       "    }\n",
       "\n",
       "    .dataframe tbody tr th {\n",
       "        vertical-align: top;\n",
       "    }\n",
       "\n",
       "    .dataframe thead th {\n",
       "        text-align: right;\n",
       "    }\n",
       "</style>\n",
       "<table border=\"1\" class=\"dataframe\">\n",
       "  <thead>\n",
       "    <tr style=\"text-align: right;\">\n",
       "      <th></th>\n",
       "      <th>story_id</th>\n",
       "      <th>story_json</th>\n",
       "    </tr>\n",
       "  </thead>\n",
       "  <tbody>\n",
       "    <tr>\n",
       "      <th>0</th>\n",
       "      <td>127</td>\n",
       "      <td>[изменить, пин, код, зайдите, главной, меню, в...</td>\n",
       "    </tr>\n",
       "    <tr>\n",
       "      <th>1</th>\n",
       "      <td>254</td>\n",
       "      <td>[пополнить, карту, стрелка, приложении, тинько...</td>\n",
       "    </tr>\n",
       "    <tr>\n",
       "      <th>2</th>\n",
       "      <td>865</td>\n",
       "      <td>[тинькофф, инвестиции, 2, 0, хорошие, новости,...</td>\n",
       "    </tr>\n",
       "    <tr>\n",
       "      <th>3</th>\n",
       "      <td>1491</td>\n",
       "      <td>[выставка, уличной, культуры, 18, 19, августа,...</td>\n",
       "    </tr>\n",
       "    <tr>\n",
       "      <th>4</th>\n",
       "      <td>598</td>\n",
       "      <td>[необычные, виды, спорта, бег, бассейн, тренаж...</td>\n",
       "    </tr>\n",
       "    <tr>\n",
       "      <th>...</th>\n",
       "      <td>...</td>\n",
       "      <td>...</td>\n",
       "    </tr>\n",
       "    <tr>\n",
       "      <th>954</th>\n",
       "      <td>882</td>\n",
       "      <td>[компенсировать, авиабилет, милями, зайдите, в...</td>\n",
       "    </tr>\n",
       "    <tr>\n",
       "      <th>955</th>\n",
       "      <td>1473</td>\n",
       "      <td>[компенсировать, покупку, баллами, браво, зайд...</td>\n",
       "    </tr>\n",
       "    <tr>\n",
       "      <th>956</th>\n",
       "      <td>266</td>\n",
       "      <td>[оплатить, счет, коммуналку, ошибиться, реквиз...</td>\n",
       "    </tr>\n",
       "    <tr>\n",
       "      <th>957</th>\n",
       "      <td>764</td>\n",
       "      <td>[плачу, картой, терминал, просит, подпись, пин...</td>\n",
       "    </tr>\n",
       "    <tr>\n",
       "      <th>958</th>\n",
       "      <td>224</td>\n",
       "      <td>[найти, банкомат, снять, наличные, рядом, вами...</td>\n",
       "    </tr>\n",
       "  </tbody>\n",
       "</table>\n",
       "<p>959 rows × 2 columns</p>\n",
       "</div>"
      ],
      "text/plain": [
       "     story_id                                         story_json\n",
       "0         127  [изменить, пин, код, зайдите, главной, меню, в...\n",
       "1         254  [пополнить, карту, стрелка, приложении, тинько...\n",
       "2         865  [тинькофф, инвестиции, 2, 0, хорошие, новости,...\n",
       "3        1491  [выставка, уличной, культуры, 18, 19, августа,...\n",
       "4         598  [необычные, виды, спорта, бег, бассейн, тренаж...\n",
       "..        ...                                                ...\n",
       "954       882  [компенсировать, авиабилет, милями, зайдите, в...\n",
       "955      1473  [компенсировать, покупку, баллами, браво, зайд...\n",
       "956       266  [оплатить, счет, коммуналку, ошибиться, реквиз...\n",
       "957       764  [плачу, картой, терминал, просит, подпись, пин...\n",
       "958       224  [найти, банкомат, снять, наличные, рядом, вами...\n",
       "\n",
       "[959 rows x 2 columns]"
      ]
     },
     "execution_count": 66,
     "metadata": {},
     "output_type": "execute_result"
    }
   ],
   "source": [
    "df"
   ]
  },
  {
   "cell_type": "code",
   "execution_count": 67,
   "metadata": {},
   "outputs": [],
   "source": [
    "df.to_csv('df_story.csv', index=False)"
   ]
  },
  {
   "cell_type": "code",
   "execution_count": 69,
   "metadata": {},
   "outputs": [
    {
     "data": {
      "text/html": [
       "<div>\n",
       "<style scoped>\n",
       "    .dataframe tbody tr th:only-of-type {\n",
       "        vertical-align: middle;\n",
       "    }\n",
       "\n",
       "    .dataframe tbody tr th {\n",
       "        vertical-align: top;\n",
       "    }\n",
       "\n",
       "    .dataframe thead th {\n",
       "        text-align: right;\n",
       "    }\n",
       "</style>\n",
       "<table border=\"1\" class=\"dataframe\">\n",
       "  <thead>\n",
       "    <tr style=\"text-align: right;\">\n",
       "      <th></th>\n",
       "      <th>story_id</th>\n",
       "      <th>story_json</th>\n",
       "    </tr>\n",
       "  </thead>\n",
       "  <tbody>\n",
       "    <tr>\n",
       "      <th>0</th>\n",
       "      <td>127</td>\n",
       "      <td>[изменить, пин, код, зайдите, главной, меню, в...</td>\n",
       "    </tr>\n",
       "    <tr>\n",
       "      <th>1</th>\n",
       "      <td>254</td>\n",
       "      <td>[пополнить, карту, стрелка, приложении, тинько...</td>\n",
       "    </tr>\n",
       "    <tr>\n",
       "      <th>2</th>\n",
       "      <td>865</td>\n",
       "      <td>[тинькофф, инвестиции, 2, 0, хорошие, новости,...</td>\n",
       "    </tr>\n",
       "    <tr>\n",
       "      <th>3</th>\n",
       "      <td>1491</td>\n",
       "      <td>[выставка, уличной, культуры, 18, 19, августа,...</td>\n",
       "    </tr>\n",
       "    <tr>\n",
       "      <th>4</th>\n",
       "      <td>598</td>\n",
       "      <td>[необычные, виды, спорта, бег, бассейн, тренаж...</td>\n",
       "    </tr>\n",
       "    <tr>\n",
       "      <th>...</th>\n",
       "      <td>...</td>\n",
       "      <td>...</td>\n",
       "    </tr>\n",
       "    <tr>\n",
       "      <th>954</th>\n",
       "      <td>882</td>\n",
       "      <td>[компенсировать, авиабилет, милями, зайдите, в...</td>\n",
       "    </tr>\n",
       "    <tr>\n",
       "      <th>955</th>\n",
       "      <td>1473</td>\n",
       "      <td>[компенсировать, покупку, баллами, браво, зайд...</td>\n",
       "    </tr>\n",
       "    <tr>\n",
       "      <th>956</th>\n",
       "      <td>266</td>\n",
       "      <td>[оплатить, счет, коммуналку, ошибиться, реквиз...</td>\n",
       "    </tr>\n",
       "    <tr>\n",
       "      <th>957</th>\n",
       "      <td>764</td>\n",
       "      <td>[плачу, картой, терминал, просит, подпись, пин...</td>\n",
       "    </tr>\n",
       "    <tr>\n",
       "      <th>958</th>\n",
       "      <td>224</td>\n",
       "      <td>[найти, банкомат, снять, наличные, рядом, вами...</td>\n",
       "    </tr>\n",
       "  </tbody>\n",
       "</table>\n",
       "<p>959 rows × 2 columns</p>\n",
       "</div>"
      ],
      "text/plain": [
       "     story_id                                         story_json\n",
       "0         127  [изменить, пин, код, зайдите, главной, меню, в...\n",
       "1         254  [пополнить, карту, стрелка, приложении, тинько...\n",
       "2         865  [тинькофф, инвестиции, 2, 0, хорошие, новости,...\n",
       "3        1491  [выставка, уличной, культуры, 18, 19, августа,...\n",
       "4         598  [необычные, виды, спорта, бег, бассейн, тренаж...\n",
       "..        ...                                                ...\n",
       "954       882  [компенсировать, авиабилет, милями, зайдите, в...\n",
       "955      1473  [компенсировать, покупку, баллами, браво, зайд...\n",
       "956       266  [оплатить, счет, коммуналку, ошибиться, реквиз...\n",
       "957       764  [плачу, картой, терминал, просит, подпись, пин...\n",
       "958       224  [найти, банкомат, снять, наличные, рядом, вами...\n",
       "\n",
       "[959 rows x 2 columns]"
      ]
     },
     "execution_count": 69,
     "metadata": {},
     "output_type": "execute_result"
    }
   ],
   "source": [
    "from nltk.stem.wordnet import WordNetLemmatizer\n",
    "lmtzr = WordNetLemmatizer()\n",
    "df['story_json'] = df['story_json'].apply(\n",
    "                    lambda lst:[lmtzr.lemmatize(word) for word in lst])\n",
    "df"
   ]
  },
  {
   "cell_type": "code",
   "execution_count": 71,
   "metadata": {},
   "outputs": [
    {
     "data": {
      "text/plain": [
       "'коммуналку'"
      ]
     },
     "execution_count": 71,
     "metadata": {},
     "output_type": "execute_result"
    }
   ],
   "source": [
    "lmtzr.lemmatize(\"коммуналку\")"
   ]
  },
  {
   "cell_type": "code",
   "execution_count": 72,
   "metadata": {},
   "outputs": [
    {
     "data": {
      "text/plain": [
       "'dog'"
      ]
     },
     "execution_count": 72,
     "metadata": {},
     "output_type": "execute_result"
    }
   ],
   "source": [
    "lmtzr.lemmatize(\"dogs\")"
   ]
  },
  {
   "cell_type": "code",
   "execution_count": 74,
   "metadata": {},
   "outputs": [],
   "source": [
    "import re\n",
    "from pymorphy2 import MorphAnalyzer\n",
    "from nltk.corpus import stopwords\n",
    "stopwords_ru = stopwords.words(\"russian\")\n",
    "morph = MorphAnalyzer()\n",
    "def lemmatize(doc):\n",
    "    tokens = []\n",
    "    for token in doc.split():\n",
    "        if token and token not in stopwords_ru:\n",
    "            token = token.strip()\n",
    "            token = morph.normal_forms(token)[0]\n",
    "            \n",
    "            tokens.append(token)\n",
    "    if len(tokens) > 2:\n",
    "        return tokens\n",
    "    return None"
   ]
  },
  {
   "cell_type": "code",
   "execution_count": 79,
   "metadata": {},
   "outputs": [
    {
     "data": {
      "text/plain": [
       "['коммуналка', 'коммуналка', 'коммуналка']"
      ]
     },
     "execution_count": 79,
     "metadata": {},
     "output_type": "execute_result"
    }
   ],
   "source": [
    "lemmatize('коммуналку коммуналку коммуналку')"
   ]
  },
  {
   "cell_type": "code",
   "execution_count": null,
   "metadata": {},
   "outputs": [],
   "source": []
  }
 ],
 "metadata": {
  "kernelspec": {
   "display_name": "Python 3",
   "language": "python",
   "name": "python3"
  },
  "language_info": {
   "codemirror_mode": {
    "name": "ipython",
    "version": 3
   },
   "file_extension": ".py",
   "mimetype": "text/x-python",
   "name": "python",
   "nbconvert_exporter": "python",
   "pygments_lexer": "ipython3",
   "version": "3.7.9"
  }
 },
 "nbformat": 4,
 "nbformat_minor": 4
}
